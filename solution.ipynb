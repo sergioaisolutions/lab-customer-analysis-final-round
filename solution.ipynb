{
 "cells": [
  {
   "cell_type": "markdown",
   "source": [
    "<h1>WORKING ON PUT ALL TOGETHER. SUNDAY IS GOING TO BE DONE.</h1>"
   ],
   "metadata": {}
  },
  {
   "cell_type": "code",
   "execution_count": 1,
   "source": [
    "print('Working on it put all together! Sunday is going to be done :)')"
   ],
   "outputs": [
    {
     "output_type": "stream",
     "name": "stdout",
     "text": [
      "Working on it put all together! Sunday is going to be done :)\n"
     ]
    }
   ],
   "metadata": {}
  }
 ],
 "metadata": {
  "orig_nbformat": 4,
  "language_info": {
   "name": "python",
   "version": "3.7.6",
   "mimetype": "text/x-python",
   "codemirror_mode": {
    "name": "ipython",
    "version": 3
   },
   "pygments_lexer": "ipython3",
   "nbconvert_exporter": "python",
   "file_extension": ".py"
  },
  "kernelspec": {
   "name": "python3",
   "display_name": "Python 3.7.6 64-bit ('ironhack_environment': venv)"
  },
  "interpreter": {
   "hash": "df81bf56b2521791aaa0ff1ac8d57256f917b61d33ad24d6b6d13191d105bbf2"
  }
 },
 "nbformat": 4,
 "nbformat_minor": 2
}